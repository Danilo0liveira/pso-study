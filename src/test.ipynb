{
 "cells": [
  {
   "cell_type": "code",
   "execution_count": 7,
   "metadata": {},
   "outputs": [],
   "source": [
    "from PSO import ParticleSwarmOptimization"
   ]
  },
  {
   "cell_type": "code",
   "execution_count": 52,
   "metadata": {},
   "outputs": [
    {
     "name": "stdout",
     "output_type": "stream",
     "text": [
      "best_particle bestfit> [-0.16009137]\n",
      "best_particle bestpos> [[0.39998526]]\n"
     ]
    }
   ],
   "source": [
    "# Trying to find polynomial root\n",
    "\n",
    "def calculate_pol(particle):\n",
    "   '''actual roots: + 0,444679816 | - 1,194679816'''\n",
    "   return 4*particle.x[0]**2+3*particle.x[0]-2\n",
    "\n",
    "opti1 = ParticleSwarmOptimization(Vmin=-2, Vmax=2, Xmin=-10, Xmax=10, Ngenerations=500, N=1, pop=100, fitness=calculate_pol, c1=4, c2=4)\n",
    "\n",
    "Ngenerations = 500\n",
    "gen = 0\n",
    "\n",
    "while gen <= Ngenerations:\n",
    "    opti1.run_generation()\n",
    "    gen+=1\n",
    "\n",
    "print('best_particle bestfit>', opti1.best_particle.best_fit)\n",
    "print('best_particle bestpos>', opti1.best_particle.best_pos)   "
   ]
  }
 ],
 "metadata": {
  "kernelspec": {
   "display_name": "py310",
   "language": "python",
   "name": "python3"
  },
  "language_info": {
   "codemirror_mode": {
    "name": "ipython",
    "version": 3
   },
   "file_extension": ".py",
   "mimetype": "text/x-python",
   "name": "python",
   "nbconvert_exporter": "python",
   "pygments_lexer": "ipython3",
   "version": "3.10.13"
  }
 },
 "nbformat": 4,
 "nbformat_minor": 2
}
