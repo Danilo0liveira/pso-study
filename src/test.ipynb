{
 "cells": [
  {
   "cell_type": "code",
   "execution_count": 2,
   "metadata": {},
   "outputs": [],
   "source": [
    "from PSO import ParticleSwarmOptimization"
   ]
  },
  {
   "cell_type": "code",
   "execution_count": 13,
   "metadata": {},
   "outputs": [
    {
     "name": "stdout",
     "output_type": "stream",
     "text": [
      "best_particle bestfit> [-2.56249781]\n",
      "best_particle bestpos> [[-0.37425981]]\n"
     ]
    }
   ],
   "source": [
    "def calculate_pol(particle):\n",
    "   return 4*particle.x[0]**2+3*particle.x[0]-2\n",
    "\n",
    "if __name__ == '__main__':\n",
    "    opti1 = ParticleSwarmOptimization(Vmin=-2, Vmax=2, Xmin=-10, Xmax=100, Ngenerations=10, N=1, pop=10, fitness=calculate_pol, c1=4, c2=4)\n",
    "\n",
    "    Ngenerations = 10\n",
    "    gen = 0\n",
    "\n",
    "    while gen <= Ngenerations:\n",
    "        opti1.run_generation()\n",
    "        gen+=1\n",
    "\n",
    "    print('best_particle bestfit>', opti1.best_particle.best_fit)\n",
    "    print('best_particle bestpos>', opti1.best_particle.best_pos)   "
   ]
  }
 ],
 "metadata": {
  "kernelspec": {
   "display_name": "py310",
   "language": "python",
   "name": "python3"
  },
  "language_info": {
   "codemirror_mode": {
    "name": "ipython",
    "version": 3
   },
   "file_extension": ".py",
   "mimetype": "text/x-python",
   "name": "python",
   "nbconvert_exporter": "python",
   "pygments_lexer": "ipython3",
   "version": "3.10.13"
  }
 },
 "nbformat": 4,
 "nbformat_minor": 2
}
